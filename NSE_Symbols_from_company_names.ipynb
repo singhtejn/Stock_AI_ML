{
  "nbformat": 4,
  "nbformat_minor": 0,
  "metadata": {
    "colab": {
      "provenance": [],
      "authorship_tag": "ABX9TyO3ObxYQ6q8TumCT6PGSjlm",
      "include_colab_link": true
    },
    "kernelspec": {
      "name": "python3",
      "display_name": "Python 3"
    },
    "language_info": {
      "name": "python"
    }
  },
  "cells": [
    {
      "cell_type": "markdown",
      "metadata": {
        "id": "view-in-github",
        "colab_type": "text"
      },
      "source": [
        "<a href=\"https://colab.research.google.com/github/singhtejn/Stock_AI_ML/blob/main/NSE_Symbols_from_company_names.ipynb\" target=\"_parent\"><img src=\"https://colab.research.google.com/assets/colab-badge.svg\" alt=\"Open In Colab\"/></a>"
      ]
    },
    {
      "cell_type": "markdown",
      "source": [
        "Given the list of company names this code will fetch the corresponding stock symbols for NSE"
      ],
      "metadata": {
        "id": "TWchTp0vLkq-"
      }
    },
    {
      "cell_type": "code",
      "source": [
        "!pip install requests beautifulsoup4\n",
        "import requests\n",
        "from bs4 import BeautifulSoup\n",
        "import csv\n",
        "\n",
        "def get_nse_symbol(company_name):\n",
        "    search_url = f\"https://www.nseindia.com/search?q={company_name.replace(' ', '%20')}\"\n",
        "    headers = {\n",
        "        \"User-Agent\": \"Mozilla/5.0 (Windows NT 10.0; Win64; x64) AppleWebKit/537.36 (KHTML, like Gecko) Chrome/91.0.4472.124 Safari/537.36\"\n",
        "    }\n",
        "    response = requests.get(search_url, headers=headers)\n",
        "    soup = BeautifulSoup(response.text, 'html.parser')\n",
        "    symbol = 'Not found'\n",
        "    try:\n",
        "        search_wrappers = soup.find_all('div', class_='searchWrp')\n",
        "        for wrapper in search_wrappers:\n",
        "            link = wrapper.find('a')\n",
        "            if link and 'equity?symbol=' in link['href']:\n",
        "                symbol = link.text.strip()\n",
        "                break\n",
        "    except Exception as e:\n",
        "        symbol = 'Not found'\n",
        "    return symbol\n",
        "\n",
        "companies = [\n",
        "    \"Reliance Industries Ltd.\",\n",
        "    \"HDFC Bank Ltd.\",\n",
        "    \"Jio Financial Services Ltd.\",\n",
        "    \"Aegis Logistics Ltd.\",\n",
        "    \"Bikaji Foods International Ltd.\",\n",
        "    \"Adani Power Ltd.\",\n",
        "    \"IRB Infrastructure Developers Ltd.\",\n",
        "    \"Housing & Urban Development Corporation Ltd.\",\n",
        "    \"RBL Bank Ltd.\",\n",
        "    \"National Aluminium Co. Ltd.\",\n",
        "    \"HFCL Ltd.\",\n",
        "    \"Arvind Ltd.\",\n",
        "    \"Shipping Corporation Of India Ltd.\",\n",
        "    \"Poly Medicure Ltd.\",\n",
        "    \"Anand Rathi Wealth Services Ltd.\",\n",
        "    \"Keystone Realtors Private Ltd.\",\n",
        "    \"H.e.g. Ltd.\",\n",
        "    \"Orchid Pharma Ltd.\",\n",
        "    \"Railtel Corporation of India Ltd.\",\n",
        "    \"Aditya Birla Fashion and Retail Ltd.\",\n",
        "    \"Karnataka Bank Ltd.\",\n",
        "    \"Just Dial Ltd.\",\n",
        "    \"Usha Martin Ltd.\",\n",
        "    \"Minda Corporation Ltd.\",\n",
        "    \"Tata Consultancy Services Ltd.\",\n",
        "    \"Strides Pharma Science Ltd.\",\n",
        "    \"Life Insurance Corporation Of India\",\n",
        "    \"Graphite India Ltd.\",\n",
        "    \"Engineers India Ltd.\",\n",
        "    \"Jubilant Life Sciences Ltd.\",\n",
        "    \"Sula Vineyards Ltd.\",\n",
        "    \"EID-Parry (India) Ltd.\",\n",
        "    \"Jindal Steel & Power Ltd.\",\n",
        "    \"India Shelter Finance Corporation Ltd.\",\n",
        "    \"Balrampur Chini Mills Ltd.\",\n",
        "    \"Indian Railway Finance Corporation Ltd.\",\n",
        "    \"Anupam Rasayan India Ltd.\",\n",
        "    \"JM Financial Ltd.\",\n",
        "    \"Sequent Scientific Ltd.\",\n",
        "    \"Juniper Hotels Ltd.\",\n",
        "    \"Burger King India Ltd.\",\n",
        "    \"Indoco Remedies Ltd.\",\n",
        "    \"Garware Hi-Tech Films Ltd.\",\n",
        "    \"Man Infraconstruction Ltd.\",\n",
        "    \"Himadri Speciality Chemical Ltd.\",\n",
        "    \"BLS International Services Ltd.\",\n",
        "    \"Tvs Srichakra Ltd.\",\n",
        "    \"Vishnu Prakash R Punglia Ltd.\",\n",
        "    \"Exicom Tele-Systems Ltd.\",\n",
        "    \"Nitin Spinners Ltd.\",\n",
        "    \"Jana Small Finance Bank Ltd.\",\n",
        "    \"Gujarat State Fertilizers & Chemicals Ltd.\",\n",
        "    \"Jash Engineering Ltd.\",\n",
        "    \"Maharashtra Seamless Ltd.\",\n",
        "    \"Rishabh Instruments Ltd.\",\n",
        "    \"Orissa Minerals Development Co. Ltd.\",\n",
        "    \"Granules India Ltd.\",\n",
        "    \"NCC Ltd.\",\n",
        "    \"Apeejay Surrendra Park Hotels Ltd.\",\n",
        "    \"Latent View Analytics Ltd.\",\n",
        "    \"Neogen Chemicals Ltd.\",\n",
        "    \"Sandur Manganese & Iron Ores Ltd.\",\n",
        "    \"Aarti Pharmalabs Ltd.\",\n",
        "    \"TV18 Broadcast Ltd.\",\n",
        "    \"Gopal Snacks Ltd.\",\n",
        "    \"Sun TV Network Ltd.\",\n",
        "    \"Thyrocare Technologies Ltd.\",\n",
        "    \"Indraprastha Medical Corporation Ltd.\",\n",
        "    \"Affle India Ltd.\",\n",
        "    \"Vardhman Textiles Ltd.\",\n",
        "    \"Sai Silk (Kalamandir) Ltd.\",\n",
        "    \"Aurobindo Pharma Ltd.\",\n",
        "    \"Capacite Infraprojects Ltd.\",\n",
        "    \"Prime Securities Ltd.\",\n",
        "    \"Best Agrolife Ltd.\",\n",
        "    \"Marico Ltd.\",\n",
        "    \"HP Adhesives Ltd.\",\n",
        "    \"Birla Corporation Ltd.\",\n",
        "    \"Indian Hume Pipe Co. Ltd.\",\n",
        "    \"Pix Transmissions Ltd.\",\n",
        "    \"EPL Ltd.\",\n",
        "    \"Taj GVK Hotels & Resorts Ltd.\",\n",
        "    \"Oriental Hotels Ltd.\",\n",
        "    \"Punjab Alkalies & Chemicals Ltd.\",\n",
        "    \"ICRA Ltd.\",\n",
        "    \"Vimta Laboratories Ltd.\",\n",
        "    \"Rain Industries Ltd.\",\n",
        "    \"Pfizer Ltd.\",\n",
        "    \"Kotak Mahindra Bank Ltd.\",\n",
        "    \"Confidence Petroleum India Ltd.\",\n",
        "    \"Mangalam Cement Ltd.\"\n",
        "]\n",
        "\n",
        "symbols = {company: get_nse_symbol(company) for company in companies}\n",
        "\n",
        "# Save to CSV file\n",
        "with open('nse_symbols.csv', mode='w', newline='') as file:\n",
        "    writer = csv.writer(file)\n",
        "    writer.writerow(['Company Name', 'Stock Symbol'])\n",
        "    for company, symbol in symbols.items():\n",
        "        writer.writerow([company, symbol])\n",
        "\n",
        "print(\"CSV file 'nse_symbols.csv' has been created.\")"
      ],
      "metadata": {
        "colab": {
          "base_uri": "https://localhost:8080/"
        },
        "id": "x7RDGU5VBnD2",
        "outputId": "0f865684-ff2b-46ab-8f1f-58cb3de62cc8"
      },
      "execution_count": null,
      "outputs": [
        {
          "output_type": "stream",
          "name": "stdout",
          "text": [
            "Requirement already satisfied: requests in /usr/local/lib/python3.10/dist-packages (2.31.0)\n",
            "Requirement already satisfied: beautifulsoup4 in /usr/local/lib/python3.10/dist-packages (4.12.3)\n",
            "Requirement already satisfied: charset-normalizer<4,>=2 in /usr/local/lib/python3.10/dist-packages (from requests) (3.3.2)\n",
            "Requirement already satisfied: idna<4,>=2.5 in /usr/local/lib/python3.10/dist-packages (from requests) (3.7)\n",
            "Requirement already satisfied: urllib3<3,>=1.21.1 in /usr/local/lib/python3.10/dist-packages (from requests) (2.0.7)\n",
            "Requirement already satisfied: certifi>=2017.4.17 in /usr/local/lib/python3.10/dist-packages (from requests) (2024.7.4)\n",
            "Requirement already satisfied: soupsieve>1.2 in /usr/local/lib/python3.10/dist-packages (from beautifulsoup4) (2.5)\n"
          ]
        }
      ]
    }
  ]
}
!pip install requests beautifulsoup4
import requests
from bs4 import BeautifulSoup

def get_nse_symbol(company_name):
    search_url = f"https://www.nseindia.com/search?q={company_name.replace(' ', '%20')}"
    headers = {
        "User-Agent": "Mozilla/5.0 (Windows NT 10.0; Win64; x64) AppleWebKit/537.36 (KHTML, like Gecko) Chrome/91.0.4472.124 Safari/537.36"
    }
    response = requests.get(search_url, headers=headers)
    soup = BeautifulSoup(response.text, 'html.parser')
    symbol = 'Not found'
    try:
        search_wrappers = soup.find_all('div', class_='searchWrp')
        for wrapper in search_wrappers:
            link = wrapper.find('a')
            if link and 'equity?symbol=' in link['href']:
                symbol = link.text.strip()
                break
    except Exception as e:
        symbol = 'Not found'
    return symbol

companies = [
    "Reliance Industries Ltd.",
    "HDFC Bank Ltd.",
    "Jio Financial Services Ltd.",
    "Aegis Logistics Ltd.",
    "Bikaji Foods International Ltd.",
    "Adani Power Ltd.",
    "IRB Infrastructure Developers Ltd.",
    "Housing & Urban Development Corporation Ltd.",
    "RBL Bank Ltd.",
    "National Aluminium Co. Ltd.",
    "HFCL Ltd.",
    "Arvind Ltd.",
    "Shipping Corporation Of India Ltd.",
    "Poly Medicure Ltd.",
    "Anand Rathi Wealth Services Ltd.",
    "Keystone Realtors Private Ltd.",
    "H.e.g. Ltd.",
    "Orchid Pharma Ltd.",
    "Railtel Corporation of India Ltd.",
    "Aditya Birla Fashion and Retail Ltd.",
    "Karnataka Bank Ltd.",
    "Just Dial Ltd.",
    "Usha Martin Ltd.",
    "Minda Corporation Ltd.",
    "Tata Consultancy Services Ltd.",
    "Strides Pharma Science Ltd.",
    "Life Insurance Corporation Of India",
    "Graphite India Ltd.",
    "Engineers India Ltd.",
    "Jubilant Life Sciences Ltd.",
    "Sula Vineyards Ltd.",
    "EID-Parry (India) Ltd.",
    "Jindal Steel & Power Ltd.",
    "India Shelter Finance Corporation Ltd.",
    "Balrampur Chini Mills Ltd.",
    "Indian Railway Finance Corporation Ltd.",
    "Anupam Rasayan India Ltd.",
    "JM Financial Ltd.",
    "Sequent Scientific Ltd.",
    "Juniper Hotels Ltd.",
    "Burger King India Ltd.",
    "Indoco Remedies Ltd.",
    "Garware Hi-Tech Films Ltd.",
    "Man Infraconstruction Ltd.",
    "Himadri Speciality Chemical Ltd.",
    "BLS International Services Ltd.",
    "Tvs Srichakra Ltd.",
    "Vishnu Prakash R Punglia Ltd.",
    "Exicom Tele-Systems Ltd.",
    "Nitin Spinners Ltd.",
    "Jana Small Finance Bank Ltd.",
    "Gujarat State Fertilizers & Chemicals Ltd.",
    "Jash Engineering Ltd.",
    "Maharashtra Seamless Ltd.",
    "Rishabh Instruments Ltd.",
    "Orissa Minerals Development Co. Ltd.",
    "Granules India Ltd.",
    "NCC Ltd.",
    "Apeejay Surrendra Park Hotels Ltd.",
    "Latent View Analytics Ltd.",
    "Neogen Chemicals Ltd.",
    "Sandur Manganese & Iron Ores Ltd.",
    "Aarti Pharmalabs Ltd.",
    "TV18 Broadcast Ltd.",
    "Gopal Snacks Ltd.",
    "Sun TV Network Ltd.",
    "Thyrocare Technologies Ltd.",
    "Indraprastha Medical Corporation Ltd.",
    "Affle India Ltd.",
    "Vardhman Textiles Ltd.",
    "Sai Silk (Kalamandir) Ltd.",
    "Aurobindo Pharma Ltd.",
    "Capacite Infraprojects Ltd.",
    "Prime Securities Ltd.",
    "Best Agrolife Ltd.",
    "Marico Ltd.",
    "HP Adhesives Ltd.",
    "Birla Corporation Ltd.",
    "Indian Hume Pipe Co. Ltd.",
    "Pix Transmissions Ltd.",
    "EPL Ltd.",
    "Taj GVK Hotels & Resorts Ltd.",
    "Oriental Hotels Ltd.",
    "Punjab Alkalies & Chemicals Ltd.",
    "ICRA Ltd.",
    "Vimta Laboratories Ltd.",
    "Rain Industries Ltd.",
    "Pfizer Ltd.",
    "Kotak Mahindra Bank Ltd.",
    "Confidence Petroleum India Ltd.",
    "Mangalam Cement Ltd."
]

symbols = {company: get_nse_symbol(company) for company in companies}
for company, symbol in symbols.items():
    print(f"{company}: {symbol}")
